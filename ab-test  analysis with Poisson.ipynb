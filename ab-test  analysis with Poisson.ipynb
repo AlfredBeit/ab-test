{
 "cells": [
  {
   "cell_type": "code",
   "execution_count": 1,
   "metadata": {
    "collapsed": false
   },
   "outputs": [],
   "source": [
    "import pandas as pd\n",
    "import numpy as np\n",
    "import scipy\n",
    "from scipy import stats\n",
    "import matplotlib.pyplot as plt\n",
    "import seaborn as sns\n",
    "%matplotlib inline"
   ]
  },
  {
   "cell_type": "code",
   "execution_count": 2,
   "metadata": {
    "collapsed": false
   },
   "outputs": [],
   "source": [
    "directory = \"/Users/abittaraev/Desktop/AB_Test_Results.xlsx\"\n",
    "df = pd.read_excel(directory, header=0)"
   ]
  },
  {
   "cell_type": "code",
   "execution_count": 3,
   "metadata": {
    "collapsed": false
   },
   "outputs": [
    {
     "name": "stdout",
     "output_type": "stream",
     "text": [
      "<class 'pandas.core.frame.DataFrame'>\n",
      "RangeIndex: 10000 entries, 0 to 9999\n",
      "Data columns (total 3 columns):\n",
      "USER_ID         10000 non-null int64\n",
      "VARIANT_NAME    10000 non-null object\n",
      "REVENUE         10000 non-null float64\n",
      "dtypes: float64(1), int64(1), object(1)\n",
      "memory usage: 234.5+ KB\n"
     ]
    },
    {
     "data": {
      "text/html": [
       "<div>\n",
       "<table border=\"1\" class=\"dataframe\">\n",
       "  <thead>\n",
       "    <tr style=\"text-align: right;\">\n",
       "      <th></th>\n",
       "      <th>USER_ID</th>\n",
       "      <th>VARIANT_NAME</th>\n",
       "      <th>REVENUE</th>\n",
       "    </tr>\n",
       "  </thead>\n",
       "  <tbody>\n",
       "    <tr>\n",
       "      <th>0</th>\n",
       "      <td>2</td>\n",
       "      <td>control</td>\n",
       "      <td>0.0</td>\n",
       "    </tr>\n",
       "    <tr>\n",
       "      <th>1</th>\n",
       "      <td>2</td>\n",
       "      <td>control</td>\n",
       "      <td>0.0</td>\n",
       "    </tr>\n",
       "    <tr>\n",
       "      <th>2</th>\n",
       "      <td>2</td>\n",
       "      <td>control</td>\n",
       "      <td>0.0</td>\n",
       "    </tr>\n",
       "    <tr>\n",
       "      <th>3</th>\n",
       "      <td>3</td>\n",
       "      <td>variant</td>\n",
       "      <td>0.0</td>\n",
       "    </tr>\n",
       "    <tr>\n",
       "      <th>4</th>\n",
       "      <td>3</td>\n",
       "      <td>variant</td>\n",
       "      <td>0.0</td>\n",
       "    </tr>\n",
       "    <tr>\n",
       "      <th>5</th>\n",
       "      <td>3</td>\n",
       "      <td>control</td>\n",
       "      <td>0.0</td>\n",
       "    </tr>\n",
       "    <tr>\n",
       "      <th>6</th>\n",
       "      <td>4</td>\n",
       "      <td>variant</td>\n",
       "      <td>0.0</td>\n",
       "    </tr>\n",
       "    <tr>\n",
       "      <th>7</th>\n",
       "      <td>5</td>\n",
       "      <td>variant</td>\n",
       "      <td>0.0</td>\n",
       "    </tr>\n",
       "    <tr>\n",
       "      <th>8</th>\n",
       "      <td>6</td>\n",
       "      <td>variant</td>\n",
       "      <td>0.0</td>\n",
       "    </tr>\n",
       "    <tr>\n",
       "      <th>9</th>\n",
       "      <td>9</td>\n",
       "      <td>variant</td>\n",
       "      <td>0.0</td>\n",
       "    </tr>\n",
       "  </tbody>\n",
       "</table>\n",
       "</div>"
      ],
      "text/plain": [
       "   USER_ID VARIANT_NAME  REVENUE\n",
       "0        2      control      0.0\n",
       "1        2      control      0.0\n",
       "2        2      control      0.0\n",
       "3        3      variant      0.0\n",
       "4        3      variant      0.0\n",
       "5        3      control      0.0\n",
       "6        4      variant      0.0\n",
       "7        5      variant      0.0\n",
       "8        6      variant      0.0\n",
       "9        9      variant      0.0"
      ]
     },
     "execution_count": 3,
     "metadata": {},
     "output_type": "execute_result"
    }
   ],
   "source": [
    "df.sort_values(\"USER_ID\", inplace = True)\n",
    "df.reset_index(inplace=True, drop=True)\n",
    "df.info() #check for missing data\n",
    "df.head(10)"
   ]
  },
  {
   "cell_type": "markdown",
   "metadata": {},
   "source": [
    "We are not dealing with crossover plans, where same units get different treatments over a period of time. So, for purposes of this example we discard units with treatment/control intersections. We are not addressing how to deal with these intersections, we assume random sampling and disjoint split."
   ]
  },
  {
   "cell_type": "code",
   "execution_count": 4,
   "metadata": {
    "collapsed": false
   },
   "outputs": [
    {
     "data": {
      "text/html": [
       "<div>\n",
       "<table border=\"1\" class=\"dataframe\">\n",
       "  <thead>\n",
       "    <tr style=\"text-align: right;\">\n",
       "      <th></th>\n",
       "      <th>USER_ID</th>\n",
       "      <th>VARIANT_NAME</th>\n",
       "    </tr>\n",
       "  </thead>\n",
       "  <tbody>\n",
       "    <tr>\n",
       "      <th>0</th>\n",
       "      <td>2</td>\n",
       "      <td>1</td>\n",
       "    </tr>\n",
       "    <tr>\n",
       "      <th>1</th>\n",
       "      <td>3</td>\n",
       "      <td>2</td>\n",
       "    </tr>\n",
       "    <tr>\n",
       "      <th>2</th>\n",
       "      <td>4</td>\n",
       "      <td>1</td>\n",
       "    </tr>\n",
       "    <tr>\n",
       "      <th>3</th>\n",
       "      <td>5</td>\n",
       "      <td>1</td>\n",
       "    </tr>\n",
       "    <tr>\n",
       "      <th>4</th>\n",
       "      <td>6</td>\n",
       "      <td>1</td>\n",
       "    </tr>\n",
       "    <tr>\n",
       "      <th>5</th>\n",
       "      <td>9</td>\n",
       "      <td>1</td>\n",
       "    </tr>\n",
       "    <tr>\n",
       "      <th>6</th>\n",
       "      <td>10</td>\n",
       "      <td>2</td>\n",
       "    </tr>\n",
       "    <tr>\n",
       "      <th>7</th>\n",
       "      <td>11</td>\n",
       "      <td>1</td>\n",
       "    </tr>\n",
       "    <tr>\n",
       "      <th>8</th>\n",
       "      <td>12</td>\n",
       "      <td>1</td>\n",
       "    </tr>\n",
       "    <tr>\n",
       "      <th>9</th>\n",
       "      <td>13</td>\n",
       "      <td>1</td>\n",
       "    </tr>\n",
       "  </tbody>\n",
       "</table>\n",
       "</div>"
      ],
      "text/plain": [
       "   USER_ID  VARIANT_NAME\n",
       "0        2             1\n",
       "1        3             2\n",
       "2        4             1\n",
       "3        5             1\n",
       "4        6             1\n",
       "5        9             1\n",
       "6       10             2\n",
       "7       11             1\n",
       "8       12             1\n",
       "9       13             1"
      ]
     },
     "execution_count": 4,
     "metadata": {},
     "output_type": "execute_result"
    }
   ],
   "source": [
    "# count treatments for user_id\n",
    "df_gr=df.groupby('USER_ID')['VARIANT_NAME'].nunique().reset_index()\n",
    "df_gr.head(10)"
   ]
  },
  {
   "cell_type": "code",
   "execution_count": 5,
   "metadata": {
    "collapsed": false
   },
   "outputs": [
    {
     "data": {
      "text/html": [
       "<div>\n",
       "<table border=\"1\" class=\"dataframe\">\n",
       "  <thead>\n",
       "    <tr style=\"text-align: right;\">\n",
       "      <th></th>\n",
       "      <th>USER_ID</th>\n",
       "      <th>VARIANT_NAME</th>\n",
       "      <th>REVENUE</th>\n",
       "    </tr>\n",
       "  </thead>\n",
       "  <tbody>\n",
       "    <tr>\n",
       "      <th>0</th>\n",
       "      <td>2</td>\n",
       "      <td>control</td>\n",
       "      <td>0.0</td>\n",
       "    </tr>\n",
       "    <tr>\n",
       "      <th>1</th>\n",
       "      <td>2</td>\n",
       "      <td>control</td>\n",
       "      <td>0.0</td>\n",
       "    </tr>\n",
       "    <tr>\n",
       "      <th>2</th>\n",
       "      <td>2</td>\n",
       "      <td>control</td>\n",
       "      <td>0.0</td>\n",
       "    </tr>\n",
       "    <tr>\n",
       "      <th>6</th>\n",
       "      <td>4</td>\n",
       "      <td>variant</td>\n",
       "      <td>0.0</td>\n",
       "    </tr>\n",
       "    <tr>\n",
       "      <th>7</th>\n",
       "      <td>5</td>\n",
       "      <td>variant</td>\n",
       "      <td>0.0</td>\n",
       "    </tr>\n",
       "    <tr>\n",
       "      <th>8</th>\n",
       "      <td>6</td>\n",
       "      <td>variant</td>\n",
       "      <td>0.0</td>\n",
       "    </tr>\n",
       "    <tr>\n",
       "      <th>9</th>\n",
       "      <td>9</td>\n",
       "      <td>variant</td>\n",
       "      <td>0.0</td>\n",
       "    </tr>\n",
       "    <tr>\n",
       "      <th>12</th>\n",
       "      <td>11</td>\n",
       "      <td>control</td>\n",
       "      <td>0.0</td>\n",
       "    </tr>\n",
       "    <tr>\n",
       "      <th>13</th>\n",
       "      <td>11</td>\n",
       "      <td>control</td>\n",
       "      <td>0.0</td>\n",
       "    </tr>\n",
       "    <tr>\n",
       "      <th>14</th>\n",
       "      <td>12</td>\n",
       "      <td>control</td>\n",
       "      <td>0.0</td>\n",
       "    </tr>\n",
       "  </tbody>\n",
       "</table>\n",
       "</div>"
      ],
      "text/plain": [
       "    USER_ID VARIANT_NAME  REVENUE\n",
       "0         2      control      0.0\n",
       "1         2      control      0.0\n",
       "2         2      control      0.0\n",
       "6         4      variant      0.0\n",
       "7         5      variant      0.0\n",
       "8         6      variant      0.0\n",
       "9         9      variant      0.0\n",
       "12       11      control      0.0\n",
       "13       11      control      0.0\n",
       "14       12      control      0.0"
      ]
     },
     "execution_count": 5,
     "metadata": {},
     "output_type": "execute_result"
    }
   ],
   "source": [
    "# find re-used user_ids and remove them\n",
    "df_to_del = df_gr.loc[df_gr.VARIANT_NAME > 1, ['USER_ID']]\n",
    "df_mg = pd.merge(df, df_to_del, how='left', on='USER_ID', indicator=True)\n",
    "df_corr = df_mg.loc[df_mg._merge == 'left_only', ['USER_ID', 'VARIANT_NAME', 'REVENUE']]\n",
    "df_corr.head(10)"
   ]
  },
  {
   "cell_type": "code",
   "execution_count": 6,
   "metadata": {
    "collapsed": false
   },
   "outputs": [
    {
     "data": {
      "text/plain": [
       "VARIANT_NAME       \n",
       "control       count    3026.000000\n",
       "              mean        0.155506\n",
       "              std         3.708620\n",
       "              min         0.000000\n",
       "              25%         0.000000\n",
       "              50%         0.000000\n",
       "              75%         0.000000\n",
       "              max       196.010000\n",
       "variant       count    3044.000000\n",
       "              mean        0.058909\n",
       "              std         0.760344\n",
       "              min         0.000000\n",
       "              25%         0.000000\n",
       "              50%         0.000000\n",
       "              75%         0.000000\n",
       "              max        23.040000\n",
       "Name: REVENUE, dtype: float64"
      ]
     },
     "execution_count": 6,
     "metadata": {},
     "output_type": "execute_result"
    }
   ],
   "source": [
    "#summary stats\n",
    "df_corr.groupby(\"VARIANT_NAME\")[\"REVENUE\"].describe()"
   ]
  },
  {
   "cell_type": "code",
   "execution_count": 7,
   "metadata": {
    "collapsed": false
   },
   "outputs": [
    {
     "data": {
      "text/plain": [
       "<matplotlib.axes._subplots.AxesSubplot at 0x116ad4d30>"
      ]
     },
     "execution_count": 7,
     "metadata": {},
     "output_type": "execute_result"
    },
    {
     "data": {
      "image/png": "[encoded data removed]",
      "text/plain": [
       "<matplotlib.figure.Figure at 0x116ae04a8>"
      ]
     },
     "metadata": {},
     "output_type": "display_data"
    }
   ],
   "source": [
    "#box-plot\n",
    "sns.set(style=\"whitegrid\")\n",
    "sns.boxplot(x='VARIANT_NAME',y='REVENUE',data=df_corr)"
   ]
  },
  {
   "cell_type": "markdown",
   "metadata": {},
   "source": [
    "Distributions of REVENUE for both groups are assymetric. The fact that $\\gt 75\\%$ of observations are zeros (see boxplots) tells us that one of the suitable models for this data could be ZIPR (zero inflated poisson). For now we restrict ourselves with a simple Poisson distribution. Suppose that the data-generation follows $ X_{test} \\sim Poisson(\\lambda_1) $  and  $ X_{control} \\sim Poisson(\\lambda_2)$ "
   ]
  },
  {
   "cell_type": "code",
   "execution_count": 29,
   "metadata": {
    "collapsed": false
   },
   "outputs": [
    {
     "data": {
      "text/plain": [
       "VARIANT_NAME       \n",
       "control       count    3026.000000\n",
       "              mean        0.017845\n",
       "              std         0.132411\n",
       "              min         0.000000\n",
       "              25%         0.000000\n",
       "              50%         0.000000\n",
       "              75%         0.000000\n",
       "              max         1.000000\n",
       "variant       count    3044.000000\n",
       "              mean        0.014126\n",
       "              std         0.118030\n",
       "              min         0.000000\n",
       "              25%         0.000000\n",
       "              50%         0.000000\n",
       "              75%         0.000000\n",
       "              max         1.000000\n",
       "Name: convert, dtype: float64"
      ]
     },
     "execution_count": 29,
     "metadata": {},
     "output_type": "execute_result"
    }
   ],
   "source": [
    "#recode REVENUE as binary variable (convert / non-convert) \n",
    "#to represent Poisson counts per unit of exposure\n",
    "df_corr['convert'] = df_corr.REVENUE.apply(lambda x: 1 if x > 0.00  else 0)\n",
    "df_corr.groupby(\"VARIANT_NAME\")[\"convert\"].describe()"
   ]
  },
  {
   "cell_type": "markdown",
   "metadata": {},
   "source": [
    "To illustrate why convertion events are rare we need to estimate both lambdas as \n",
    "$\\hat{\\lambda} = \\frac{\\sum{successes}}{total \\ exposure}$  "
   ]
  },
  {
   "cell_type": "code",
   "execution_count": 32,
   "metadata": {
    "collapsed": false
   },
   "outputs": [
    {
     "name": "stdout",
     "output_type": "stream",
     "text": [
      "Sample size test (n):  3044\n",
      "Sample size control (m):  3026\n",
      "Successes test:  43\n",
      "Successes control:  54\n"
     ]
    }
   ],
   "source": [
    "dff=df_corr.groupby(\"VARIANT_NAME\")[\"USER_ID\"].count().reset_index()\n",
    "n = dff.loc[dff[\"VARIANT_NAME\"]=='variant'][\"USER_ID\"].values[0]\n",
    "m = dff.loc[dff[\"VARIANT_NAME\"]=='control'][\"USER_ID\"].values[0]\n",
    "dff_s=df_corr.groupby(\"VARIANT_NAME\")[\"convert\"].sum().reset_index()\n",
    "s1= dff_s.loc[dff[\"VARIANT_NAME\"]=='variant'][\"convert\"].values[0]\n",
    "s2= dff_s.loc[dff[\"VARIANT_NAME\"]=='control'][\"convert\"].values[0]\n",
    "print(\"Sample size test (n): % 2d\" %(n) )  \n",
    "print(\"Sample size control (m): % 2d\" %(m) )  \n",
    "print(\"Successes test: % 2d\" %(s1))  \n",
    "print(\"Successes control: % 2d\" %(s2))  "
   ]
  },
  {
   "cell_type": "markdown",
   "metadata": {},
   "source": [
    "Because we sample our $iid$ variables from $Poisson(\\lambda)$ _n_ and _m_ times we can use these  sample sizes as exposures for both groups. Therefore, $\\hat{\\lambda_1} = \\frac{43}{3044} = 0.014$ and $\\hat{\\lambda_2} = \\frac{54}{3026} = 0.018$.\n",
    "\n",
    "From these rate estimates we can see that  we expect (on average) per each unit of exposure (i.e. per each user) about $1\\%$ of conversions. _Pro rata temporis_ we expect (on average) 43 conversions per 3044 units of exposure and 53 per 3026 in test and control groups respctively. \n",
    "\n",
    "This summation of successes is due to the fact that: \n",
    "* $X_{1},X_{2},...,X_{n}$ are _iid_ $Poisson(\\lambda)$, then $X = \\sum_{i=1}^{n} X_{i} \\sim Poisson(n\\lambda)$\n",
    "\n",
    "This fact can be used to from hypotheses.\n",
    "* First, rewrite  the parameters as $\\lambda_1,\\lambda_2$ как $ r_1 = n\\lambda_1, r_2 = m\\lambda_2$ \n",
    "* Then define $\\theta = \\frac{\\lambda_1}{\\lambda_2}$\n",
    "* Then, it is well known that if $ X_{test} \\sim {Poisson(r_1)} $ and  $ X_{control} \\sim {Poisson(r_2)} $ are independent, then\n",
    "$ X_{test}  \\lvert  X_{test} + X_{control} =  k \\sim {Binomial(k,p(\\theta))} $, где k=number of trials and \n",
    "$p(\\theta) = \\frac{r_1}{r_1 + r_2}$.\n",
    "* $\\lambda_1= \\theta\\lambda_2 $, it follows that $\\frac{r_1}{r_1 + r_2}$ \n",
    "    = $\\frac{n\\theta\\lambda_2}{n\\theta\\lambda_2 + m\\lambda_2} = \\frac{n\\theta}{n\\theta + m}$\n",
    "* Now, under $H_0: \\theta=\\frac{\\lambda_1}{\\lambda_2} \\leq 1 <=> p(\\theta)\\leq \\frac{n}{n+m}$ and \n",
    "$H_a: \\theta=\\frac{\\lambda_1}{\\lambda_2} \\gt 1 <=> p(\\theta)\\gt \\frac{n}{n+m}$"
   ]
  },
  {
   "cell_type": "code",
   "execution_count": 35,
   "metadata": {
    "collapsed": false
   },
   "outputs": [
    {
     "name": "stdout",
     "output_type": "stream",
     "text": [
      "Proportion of succeses under H_0 :  0.501483\n"
     ]
    }
   ],
   "source": [
    "pi=n/(n+m)\n",
    "print(\"Proportion of succeses under H_0 : % 5f\" %(pi) )  "
   ]
  },
  {
   "cell_type": "code",
   "execution_count": 36,
   "metadata": {
    "collapsed": false
   },
   "outputs": [
    {
     "name": "stdout",
     "output_type": "stream",
     "text": [
      "P_value of the test :  0.894013\n",
      "Cannot reject H_0\n"
     ]
    }
   ],
   "source": [
    "p_val=scipy.stats.binom_test(s1,s1+s2,pi,alternative=\"greater\")\n",
    "print(\"P_value of the test : % 5f\" %(p_val))  "
   ]
  },
  {
   "cell_type": "markdown",
   "metadata": {},
   "source": [
    "With this data we can not reject the $H_0$ which can be translated as \"the ratio of two Poisson rates is not statistically different from 1\". So, the conversion rates are basically the same and our experiment hasn't shown any effectiveness of the test variant over the control variant. "
   ]
  }
 ],
 "metadata": {
  "anaconda-cloud": {},
  "kernelspec": {
   "display_name": "Python [Root]",
   "language": "python",
   "name": "Python [Root]"
  },
  "language_info": {
   "codemirror_mode": {
    "name": "ipython",
    "version": 3
   },
   "file_extension": ".py",
   "mimetype": "text/x-python",
   "name": "python",
   "nbconvert_exporter": "python",
   "pygments_lexer": "ipython3",
   "version": "3.5.1"
  }
 },
 "nbformat": 4,
 "nbformat_minor": 0
}
