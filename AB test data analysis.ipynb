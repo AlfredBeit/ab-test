{
 "cells": [
  {
   "cell_type": "code",
   "execution_count": 1,
   "metadata": {
    "collapsed": false
   },
   "outputs": [],
   "source": [
    "import pandas as pd\n",
    "import numpy as np\n",
    "import scipy\n",
    "from scipy import stats\n",
    "import matplotlib.pyplot as plt\n"
   ]
  },
  {
   "cell_type": "code",
   "execution_count": 2,
   "metadata": {
    "collapsed": false
   },
   "outputs": [],
   "source": [
    "directory = \"/Users/abittaraev/Desktop/test_task_mail_ru/AB_Test_Results.xlsx\"\n",
    "df = pd.read_excel(directory, header=0)\n"
   ]
  },
  {
   "cell_type": "code",
   "execution_count": 3,
   "metadata": {
    "collapsed": false
   },
   "outputs": [
    {
     "name": "stdout",
     "output_type": "stream",
     "text": [
      "<class 'pandas.core.frame.DataFrame'>\n",
      "RangeIndex: 10000 entries, 0 to 9999\n",
      "Data columns (total 3 columns):\n",
      "USER_ID         10000 non-null int64\n",
      "VARIANT_NAME    10000 non-null object\n",
      "REVENUE         10000 non-null float64\n",
      "dtypes: float64(1), int64(1), object(1)\n",
      "memory usage: 234.5+ KB\n"
     ]
    },
    {
     "data": {
      "text/html": [
       "<div>\n",
       "<table border=\"1\" class=\"dataframe\">\n",
       "  <thead>\n",
       "    <tr style=\"text-align: right;\">\n",
       "      <th></th>\n",
       "      <th>USER_ID</th>\n",
       "      <th>VARIANT_NAME</th>\n",
       "      <th>REVENUE</th>\n",
       "    </tr>\n",
       "  </thead>\n",
       "  <tbody>\n",
       "    <tr>\n",
       "      <th>0</th>\n",
       "      <td>2</td>\n",
       "      <td>control</td>\n",
       "      <td>0.0</td>\n",
       "    </tr>\n",
       "    <tr>\n",
       "      <th>1</th>\n",
       "      <td>2</td>\n",
       "      <td>control</td>\n",
       "      <td>0.0</td>\n",
       "    </tr>\n",
       "    <tr>\n",
       "      <th>2</th>\n",
       "      <td>2</td>\n",
       "      <td>control</td>\n",
       "      <td>0.0</td>\n",
       "    </tr>\n",
       "    <tr>\n",
       "      <th>3</th>\n",
       "      <td>3</td>\n",
       "      <td>variant</td>\n",
       "      <td>0.0</td>\n",
       "    </tr>\n",
       "    <tr>\n",
       "      <th>4</th>\n",
       "      <td>3</td>\n",
       "      <td>variant</td>\n",
       "      <td>0.0</td>\n",
       "    </tr>\n",
       "    <tr>\n",
       "      <th>5</th>\n",
       "      <td>3</td>\n",
       "      <td>control</td>\n",
       "      <td>0.0</td>\n",
       "    </tr>\n",
       "    <tr>\n",
       "      <th>6</th>\n",
       "      <td>4</td>\n",
       "      <td>variant</td>\n",
       "      <td>0.0</td>\n",
       "    </tr>\n",
       "    <tr>\n",
       "      <th>7</th>\n",
       "      <td>5</td>\n",
       "      <td>variant</td>\n",
       "      <td>0.0</td>\n",
       "    </tr>\n",
       "    <tr>\n",
       "      <th>8</th>\n",
       "      <td>6</td>\n",
       "      <td>variant</td>\n",
       "      <td>0.0</td>\n",
       "    </tr>\n",
       "    <tr>\n",
       "      <th>9</th>\n",
       "      <td>9</td>\n",
       "      <td>variant</td>\n",
       "      <td>0.0</td>\n",
       "    </tr>\n",
       "  </tbody>\n",
       "</table>\n",
       "</div>"
      ],
      "text/plain": [
       "   USER_ID VARIANT_NAME  REVENUE\n",
       "0        2      control      0.0\n",
       "1        2      control      0.0\n",
       "2        2      control      0.0\n",
       "3        3      variant      0.0\n",
       "4        3      variant      0.0\n",
       "5        3      control      0.0\n",
       "6        4      variant      0.0\n",
       "7        5      variant      0.0\n",
       "8        6      variant      0.0\n",
       "9        9      variant      0.0"
      ]
     },
     "execution_count": 3,
     "metadata": {},
     "output_type": "execute_result"
    }
   ],
   "source": [
    "df.sort_values(\"USER_ID\", inplace = True)\n",
    "df.reset_index(inplace=True, drop=True)\n",
    "df.info()\n",
    "df.head(10)"
   ]
  },
  {
   "cell_type": "markdown",
   "metadata": {},
   "source": [
    "Видим, что для некоторых юзеров были применены как экспериментальные условия так и контрольные. Также для некоторых юзеров проводились репликации эксперимента. У нас нет оснований предполагать, что в дизайн эксперимента был заложен план кроссовер, так как нет временных отметок. Поэтому в рамках простого аб-теста безопаснее удалить юзеров, для которых есть обе отметки (и вариант и контроль), а репликации суммировать."
   ]
  },
  {
   "cell_type": "code",
   "execution_count": 4,
   "metadata": {
    "collapsed": false
   },
   "outputs": [
    {
     "data": {
      "text/html": [
       "<div>\n",
       "<table border=\"1\" class=\"dataframe\">\n",
       "  <thead>\n",
       "    <tr style=\"text-align: right;\">\n",
       "      <th></th>\n",
       "      <th>USER_ID</th>\n",
       "      <th>VARIANT_NAME</th>\n",
       "    </tr>\n",
       "  </thead>\n",
       "  <tbody>\n",
       "    <tr>\n",
       "      <th>0</th>\n",
       "      <td>2</td>\n",
       "      <td>1</td>\n",
       "    </tr>\n",
       "    <tr>\n",
       "      <th>1</th>\n",
       "      <td>3</td>\n",
       "      <td>2</td>\n",
       "    </tr>\n",
       "    <tr>\n",
       "      <th>2</th>\n",
       "      <td>4</td>\n",
       "      <td>1</td>\n",
       "    </tr>\n",
       "    <tr>\n",
       "      <th>3</th>\n",
       "      <td>5</td>\n",
       "      <td>1</td>\n",
       "    </tr>\n",
       "    <tr>\n",
       "      <th>4</th>\n",
       "      <td>6</td>\n",
       "      <td>1</td>\n",
       "    </tr>\n",
       "    <tr>\n",
       "      <th>5</th>\n",
       "      <td>9</td>\n",
       "      <td>1</td>\n",
       "    </tr>\n",
       "    <tr>\n",
       "      <th>6</th>\n",
       "      <td>10</td>\n",
       "      <td>2</td>\n",
       "    </tr>\n",
       "    <tr>\n",
       "      <th>7</th>\n",
       "      <td>11</td>\n",
       "      <td>1</td>\n",
       "    </tr>\n",
       "    <tr>\n",
       "      <th>8</th>\n",
       "      <td>12</td>\n",
       "      <td>1</td>\n",
       "    </tr>\n",
       "    <tr>\n",
       "      <th>9</th>\n",
       "      <td>13</td>\n",
       "      <td>1</td>\n",
       "    </tr>\n",
       "  </tbody>\n",
       "</table>\n",
       "</div>"
      ],
      "text/plain": [
       "   USER_ID  VARIANT_NAME\n",
       "0        2             1\n",
       "1        3             2\n",
       "2        4             1\n",
       "3        5             1\n",
       "4        6             1\n",
       "5        9             1\n",
       "6       10             2\n",
       "7       11             1\n",
       "8       12             1\n",
       "9       13             1"
      ]
     },
     "execution_count": 4,
     "metadata": {},
     "output_type": "execute_result"
    }
   ],
   "source": [
    "# count treatments for user_id\n",
    "df_gr=df.groupby('USER_ID')['VARIANT_NAME'].nunique().reset_index()\n",
    "df_gr.head(10)"
   ]
  },
  {
   "cell_type": "code",
   "execution_count": 5,
   "metadata": {
    "collapsed": false
   },
   "outputs": [
    {
     "data": {
      "text/html": [
       "<div>\n",
       "<table border=\"1\" class=\"dataframe\">\n",
       "  <thead>\n",
       "    <tr style=\"text-align: right;\">\n",
       "      <th></th>\n",
       "      <th>USER_ID</th>\n",
       "      <th>VARIANT_NAME</th>\n",
       "      <th>REVENUE</th>\n",
       "    </tr>\n",
       "  </thead>\n",
       "  <tbody>\n",
       "    <tr>\n",
       "      <th>0</th>\n",
       "      <td>2</td>\n",
       "      <td>control</td>\n",
       "      <td>0.0</td>\n",
       "    </tr>\n",
       "    <tr>\n",
       "      <th>1</th>\n",
       "      <td>2</td>\n",
       "      <td>control</td>\n",
       "      <td>0.0</td>\n",
       "    </tr>\n",
       "    <tr>\n",
       "      <th>2</th>\n",
       "      <td>2</td>\n",
       "      <td>control</td>\n",
       "      <td>0.0</td>\n",
       "    </tr>\n",
       "    <tr>\n",
       "      <th>6</th>\n",
       "      <td>4</td>\n",
       "      <td>variant</td>\n",
       "      <td>0.0</td>\n",
       "    </tr>\n",
       "    <tr>\n",
       "      <th>7</th>\n",
       "      <td>5</td>\n",
       "      <td>variant</td>\n",
       "      <td>0.0</td>\n",
       "    </tr>\n",
       "    <tr>\n",
       "      <th>8</th>\n",
       "      <td>6</td>\n",
       "      <td>variant</td>\n",
       "      <td>0.0</td>\n",
       "    </tr>\n",
       "    <tr>\n",
       "      <th>9</th>\n",
       "      <td>9</td>\n",
       "      <td>variant</td>\n",
       "      <td>0.0</td>\n",
       "    </tr>\n",
       "    <tr>\n",
       "      <th>12</th>\n",
       "      <td>11</td>\n",
       "      <td>control</td>\n",
       "      <td>0.0</td>\n",
       "    </tr>\n",
       "    <tr>\n",
       "      <th>13</th>\n",
       "      <td>11</td>\n",
       "      <td>control</td>\n",
       "      <td>0.0</td>\n",
       "    </tr>\n",
       "    <tr>\n",
       "      <th>14</th>\n",
       "      <td>12</td>\n",
       "      <td>control</td>\n",
       "      <td>0.0</td>\n",
       "    </tr>\n",
       "  </tbody>\n",
       "</table>\n",
       "</div>"
      ],
      "text/plain": [
       "    USER_ID VARIANT_NAME  REVENUE\n",
       "0         2      control      0.0\n",
       "1         2      control      0.0\n",
       "2         2      control      0.0\n",
       "6         4      variant      0.0\n",
       "7         5      variant      0.0\n",
       "8         6      variant      0.0\n",
       "9         9      variant      0.0\n",
       "12       11      control      0.0\n",
       "13       11      control      0.0\n",
       "14       12      control      0.0"
      ]
     },
     "execution_count": 5,
     "metadata": {},
     "output_type": "execute_result"
    }
   ],
   "source": [
    "# find re-used user_ids and remove them\n",
    "df_to_del = df_gr.loc[df_gr.VARIANT_NAME > 1, ['USER_ID']]\n",
    "df_mg = pd.merge(df, df_to_del, how='left', on='USER_ID', indicator=True)\n",
    "df_corr = df_mg.loc[df_mg._merge == 'left_only', ['USER_ID', 'VARIANT_NAME', 'REVENUE']]\n",
    "df_corr.head(10)"
   ]
  },
  {
   "cell_type": "code",
   "execution_count": 6,
   "metadata": {
    "collapsed": false
   },
   "outputs": [
    {
     "data": {
      "text/html": [
       "<div>\n",
       "<table border=\"1\" class=\"dataframe\">\n",
       "  <thead>\n",
       "    <tr style=\"text-align: right;\">\n",
       "      <th></th>\n",
       "      <th>USER_ID</th>\n",
       "      <th>VARIANT_NAME</th>\n",
       "      <th>REVENUE</th>\n",
       "    </tr>\n",
       "  </thead>\n",
       "  <tbody>\n",
       "    <tr>\n",
       "      <th>0</th>\n",
       "      <td>2</td>\n",
       "      <td>control</td>\n",
       "      <td>0.0</td>\n",
       "    </tr>\n",
       "    <tr>\n",
       "      <th>1</th>\n",
       "      <td>4</td>\n",
       "      <td>variant</td>\n",
       "      <td>0.0</td>\n",
       "    </tr>\n",
       "    <tr>\n",
       "      <th>2</th>\n",
       "      <td>5</td>\n",
       "      <td>variant</td>\n",
       "      <td>0.0</td>\n",
       "    </tr>\n",
       "    <tr>\n",
       "      <th>3</th>\n",
       "      <td>6</td>\n",
       "      <td>variant</td>\n",
       "      <td>0.0</td>\n",
       "    </tr>\n",
       "    <tr>\n",
       "      <th>4</th>\n",
       "      <td>9</td>\n",
       "      <td>variant</td>\n",
       "      <td>0.0</td>\n",
       "    </tr>\n",
       "    <tr>\n",
       "      <th>5</th>\n",
       "      <td>11</td>\n",
       "      <td>control</td>\n",
       "      <td>0.0</td>\n",
       "    </tr>\n",
       "    <tr>\n",
       "      <th>6</th>\n",
       "      <td>12</td>\n",
       "      <td>control</td>\n",
       "      <td>0.0</td>\n",
       "    </tr>\n",
       "    <tr>\n",
       "      <th>7</th>\n",
       "      <td>13</td>\n",
       "      <td>control</td>\n",
       "      <td>0.0</td>\n",
       "    </tr>\n",
       "    <tr>\n",
       "      <th>8</th>\n",
       "      <td>15</td>\n",
       "      <td>variant</td>\n",
       "      <td>0.0</td>\n",
       "    </tr>\n",
       "    <tr>\n",
       "      <th>9</th>\n",
       "      <td>19</td>\n",
       "      <td>variant</td>\n",
       "      <td>0.0</td>\n",
       "    </tr>\n",
       "  </tbody>\n",
       "</table>\n",
       "</div>"
      ],
      "text/plain": [
       "   USER_ID VARIANT_NAME  REVENUE\n",
       "0        2      control      0.0\n",
       "1        4      variant      0.0\n",
       "2        5      variant      0.0\n",
       "3        6      variant      0.0\n",
       "4        9      variant      0.0\n",
       "5       11      control      0.0\n",
       "6       12      control      0.0\n",
       "7       13      control      0.0\n",
       "8       15      variant      0.0\n",
       "9       19      variant      0.0"
      ]
     },
     "execution_count": 6,
     "metadata": {},
     "output_type": "execute_result"
    }
   ],
   "source": [
    "# sum replicated revenues per user_id\n",
    "df_sum = df_corr.groupby(['USER_ID', 'VARIANT_NAME'])['REVENUE'].sum().reset_index()\n",
    "df_sum.head(10)"
   ]
  },
  {
   "cell_type": "code",
   "execution_count": 7,
   "metadata": {
    "collapsed": false
   },
   "outputs": [
    {
     "data": {
      "text/plain": [
       "VARIANT_NAME       \n",
       "control       count    2390.000000\n",
       "              mean        0.196887\n",
       "              std         4.172201\n",
       "              min         0.000000\n",
       "              25%         0.000000\n",
       "              50%         0.000000\n",
       "              75%         0.000000\n",
       "              max       196.010000\n",
       "variant       count    2393.000000\n",
       "              mean        0.074935\n",
       "              std         0.858207\n",
       "              min         0.000000\n",
       "              25%         0.000000\n",
       "              50%         0.000000\n",
       "              75%         0.000000\n",
       "              max        23.040000\n",
       "Name: REVENUE, dtype: float64"
      ]
     },
     "execution_count": 7,
     "metadata": {},
     "output_type": "execute_result"
    }
   ],
   "source": [
    "# summary stats\n",
    "df_sum.groupby(\"VARIANT_NAME\")[\"REVENUE\"].describe()"
   ]
  },
  {
   "cell_type": "markdown",
   "metadata": {},
   "source": [
    "Распределения переменной REVENUE (даже если суммировать реплицированные значения по каждому юзеру) определенно ассиметричны. \n",
    "Тот факт, что $ \\gt 75\\% $ наблюдений в обеих группах - это нулевые значения говорит, что наиболее подходящей моделью обоих распределений была бы модель  ZIPR (zero inflated poisson regression). \n",
    "В рамках этого эксперимента мы выберем модель попроще. Мы будем считать, что  распределение Пуассона лежит в основе дата-генерационных процессов: $ X_{test} \\sim Poisson(\\lambda_1) $  и $ X_{control} \\sim Poisson(\\lambda_2)$ \n"
   ]
  },
  {
   "cell_type": "code",
   "execution_count": 8,
   "metadata": {
    "collapsed": false
   },
   "outputs": [
    {
     "data": {
      "text/plain": [
       "VARIANT_NAME       \n",
       "control       count    2390.000000\n",
       "              mean        0.022594\n",
       "              std         0.148637\n",
       "              min         0.000000\n",
       "              25%         0.000000\n",
       "              50%         0.000000\n",
       "              75%         0.000000\n",
       "              max         1.000000\n",
       "variant       count    2393.000000\n",
       "              mean        0.017551\n",
       "              std         0.131341\n",
       "              min         0.000000\n",
       "              25%         0.000000\n",
       "              50%         0.000000\n",
       "              75%         0.000000\n",
       "              max         1.000000\n",
       "Name: convert, dtype: float64"
      ]
     },
     "execution_count": 8,
     "metadata": {},
     "output_type": "execute_result"
    }
   ],
   "source": [
    "#recode REVENUE as binary variable (convert / non-convert) to represent Poisson counts per time unit\n",
    "df_sum['convert'] = df_sum.REVENUE.apply(lambda x: 1 if x > 0.00  else 0)\n",
    "df_sum.groupby(\"VARIANT_NAME\")[\"convert\"].describe()"
   ]
  },
  {
   "cell_type": "markdown",
   "metadata": {},
   "source": [
    "Судя по этим  статистикам, разница в интенсивности конверсии по группма будет незначимой. Следующим шагом, проведем ratratio тест."
   ]
  },
  {
   "cell_type": "markdown",
   "metadata": {
    "collapsed": true
   },
   "source": [
    "Схема тестирования в данном случае будет следующей:\n",
    "* оценка двух Пуассоновских средних $ \\lambda_1 , \\lambda_2 $\n",
    "* rateratio test.\n",
    "    \n",
    "Гипотезы rateratio test: \n",
    "* $ H_0: \\theta = \\frac{\\lambda_1}{\\lambda_2} \\leq 1 $\n",
    "* $ H_a: \\theta  = \\frac{\\lambda_1}{\\lambda_2} \\gt 1 $\n",
    "     \n",
    "В Python нет готового rateratio теста похожего на R, но мы можем  использовать exact binomial test (scipy.stats.binom_test), опираясь на следующее свойство распределения Пуассона: \n",
    "* Если $ X_{test} \\sim {Poisson(\\lambda_1)} $ и  $ X_{control} \\sim {Poisson(\\lambda_2)} $ независимы, то \n",
    "$ X_{test}  \\lvert  X_{test} + X_{control} =  k \\sim {Binomial(k,p(\\theta))} $, где k=количество успешных событий и \n",
    "$p(\\theta) = \\frac{\\lambda_1}{\\lambda_1 + \\lambda_2}$.\n",
    "\n",
    "Чтобы задать параметры биномиального теста проделаем следующую процедуру:\n",
    "\n",
    "* Перепишем параметры $\\lambda_1,\\lambda_2$ как $ r_1 = n\\lambda_1, r_2 = m\\lambda_2$, где n и m единицы измерения времени.\n",
    "В нашем случае, для простоты будем считать что за единицу времени может произойти только одно событие convert, поэтому n и m будут равны размеру выборок в группах.\n",
    "* Поскольку свойства Пуассоновской частоты время-независимы, можем переписать  $\\frac{\\lambda_1}{\\lambda_1 + \\lambda_2}$ как $\\frac{r_1}{r_1 + r_2}$ => $\\frac{n\\lambda_1}{n\\lambda_1 + m\\lambda_2} $\n",
    "* $\\lambda_1= \\theta\\lambda_2 $, следовательно $\\frac{n\\lambda_1}{n\\lambda_1 + m\\lambda_2} \n",
    "    = \\frac{n\\theta\\lambda_2}{n\\theta\\lambda_2 + m\\lambda_2} = \\frac{n\\theta}{n\\theta + m}$\n",
    "*  Таким образом, если $H_0$ верна и $\\theta \\leq 1$, то тестируем $H_0: \\pi = p(\\theta)\\leq \\frac{n}{n+m}$ против $H_a: \\pi = p(\\theta) \\gt \\frac{n}{n+m}$, где $\\pi$ = обычная пропорция (= вероятность) успехов в биномиальном распределении"
   ]
  },
  {
   "cell_type": "code",
   "execution_count": 9,
   "metadata": {
    "collapsed": false
   },
   "outputs": [
    {
     "name": "stdout",
     "output_type": "stream",
     "text": [
      "Sample size test:  2393\n",
      "Sample size control :  2390\n",
      "Proportion of succeses under H_0 :  0.500314\n"
     ]
    }
   ],
   "source": [
    "#compute sample sizes and pi\n",
    "dff=df_sum.groupby(\"VARIANT_NAME\")[\"USER_ID\"].count().reset_index()\n",
    "n = dff.loc[dff[\"VARIANT_NAME\"]=='variant'][\"USER_ID\"].values[0]\n",
    "m = dff.loc[dff[\"VARIANT_NAME\"]=='control'][\"USER_ID\"].values[0]\n",
    "pi=n/(n+m)\n",
    "print(\"Sample size test: % 2d\" %(n), )  \n",
    "print(\"Sample size control : % 2d\" %(m), )  \n",
    "print(\"Proportion of succeses under H_0 : % 5f\" %(pi), )  \n",
    "\n"
   ]
  },
  {
   "cell_type": "code",
   "execution_count": 10,
   "metadata": {
    "collapsed": false
   },
   "outputs": [
    {
     "name": "stdout",
     "output_type": "stream",
     "text": [
      "Sample size test:  42\n",
      "Sample size control:  54\n"
     ]
    }
   ],
   "source": [
    "#successes in the test group\n",
    "dff_s=df_sum.groupby(\"VARIANT_NAME\")[\"convert\"].sum().reset_index()\n",
    "s1= dff_s.loc[dff[\"VARIANT_NAME\"]=='variant'][\"convert\"].values[0]\n",
    "s2= dff_s.loc[dff[\"VARIANT_NAME\"]=='control'][\"convert\"].values[0]\n",
    "print(\"Sample size test: % 2d\" %(s1), )  \n",
    "print(\"Sample size control: % 2d\" %(s2), )  "
   ]
  },
  {
   "cell_type": "code",
   "execution_count": 11,
   "metadata": {
    "collapsed": false
   },
   "outputs": [
    {
     "name": "stdout",
     "output_type": "stream",
     "text": [
      "P_value of the test :  0.908870\n",
      "Cannot reject H_0\n"
     ]
    }
   ],
   "source": [
    "p_val=scipy.stats.binom_test(s1,s1+s2,pi,alternative=\"greater\")\n",
    "print(\"P_value of the test : % 5f\" %(p_val), )  \n",
    "print(\"Cannot reject H_0\")"
   ]
  },
  {
   "cell_type": "markdown",
   "metadata": {},
   "source": [
    "* Разница в конверсиях пользователей статистически не значима,то есть тест не подтверждает  эффективность эксперимента\n",
    "* Строго говоря эксперимент сам по себе некорректен, так как для чистого эксперимента один юзер может появляться в выборке только один раз и только в одной группе. Строго говоря, эксперимент нужно переделать, принимая эти ограничения во внимание\n",
    "* Для правильного анализа эксперимента (при наличии большого количества значений переменной revenue=0), нужно использовать более сложные методы, такие как ZIPR"
   ]
  }
 ],
 "metadata": {
  "anaconda-cloud": {},
  "kernelspec": {
   "display_name": "Python [Root]",
   "language": "python",
   "name": "Python [Root]"
  },
  "language_info": {
   "codemirror_mode": {
    "name": "ipython",
    "version": 3
   },
   "file_extension": ".py",
   "mimetype": "text/x-python",
   "name": "python",
   "nbconvert_exporter": "python",
   "pygments_lexer": "ipython3",
   "version": "3.5.1"
  }
 },
 "nbformat": 4,
 "nbformat_minor": 0
}
